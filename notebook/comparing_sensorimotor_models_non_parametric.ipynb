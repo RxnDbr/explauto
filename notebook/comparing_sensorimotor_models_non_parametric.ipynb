{
 "cells": [
  {
   "cell_type": "markdown",
   "metadata": {},
   "source": [
    "# Comparison between learning sensorimotor models \n",
    "## Part 1 : non parametric models"
   ]
  },
  {
   "cell_type": "markdown",
   "metadata": {},
   "source": [
    "In this notebook, we compare the different sensorimotor models used in explauto in order to help the reader to use the most appropriate model depending on his aim. The notebook is split in two parts : non parametrics models (this notebook) and models based on gaussian mixtures (coming soon). There is also a tutorial explaining how to use the [SensorimotorModel abstract class](http://flowersteam.github.io/explauto/explauto.sensorimotormodel.html#explauto.sensorimotor_model.sensorimotor_model.SensorimotorModel) ([learning_sensorimotor_models](http://nbviewer.ipython.org/github/flowersteam/explauto/blob/master/notebook/learning_sensorimotor_models.ipynb)).\n",
    "\n",
    "As explained in the [Explauto introduction](http://flowersteam.github.io/explauto/about.html), an important challenge in Developmental Robotics is how robots can efficiently learn sensorimotor mappings by experience, i.e. the mappings between the motor actions they make and the sensory effects they produce. This can be a robot learning how arm movements make physical objects move, or how movements of a virtual vocal tract modulates vocalization sounds.\n",
    "\n",
    "Let's begin with defining a simple environment that will be used to test the sensorimotor models."
   ]
  },
  {
   "cell_type": "code",
   "execution_count": 2,
   "metadata": {
    "collapsed": true
   },
   "outputs": [],
   "source": [
    "from explauto import Environment\n",
    "environment = Environment.from_configuration('simple_arm', 'low_dimensional')"
   ]
  },
  {
   "cell_type": "markdown",
   "metadata": {},
   "source": [
    "### Sensorimotor models introduction\n",
    "\n",
    "In Explauto, a sensorimotor model implements both the iterative learning process from sensorimotor experience, i.e. from the iterative collection of $(m, s)$ pairs by interaction with the environment, and the use of the resulting internal model to perform forward and inverse predictions (or any kind of general prediction between sensorimotor subspaces). \n",
    "\n",
    "Learning sensorimotor mappings involves machine learning algorithms, for which Explauto provides a unified interface through the [SensorimotorModel abstract class](http://flowersteam.github.io/explauto/explauto.sensorimotormodel.html#explauto.sensorimotor_model.sensorimotor_model.SensorimotorModel). \n",
    "\n",
    "Using the simple arm environment above, it allows to iteratively learn a sensorimotor model which will be able to:\n",
    "* infer the position of the end-effector from a given motor command, what is called *forward prediction*,\n",
    "* infer the motor command allowing to reach a particular end-effector position, what is called *inverse prediction*.\n",
    "* update online from sensorimotor experience"
   ]
  },
  {
   "cell_type": "markdown",
   "metadata": {},
   "source": [
    "### Decision tree\n",
    "\n",
    "In order to use the most appropriate model, there are several questions that have to be asked before using the following decision tree. The following paragraphs focus on these questions.\n",
    "\n",
    "*Add the decision tree*"
   ]
  },
  {
   "cell_type": "markdown",
   "metadata": {},
   "source": [
    "### Non parametric or gaussian mixture models ? \n",
    "\n",
    "Each of non parametric model is currently based on the nearest neigbhor look up. They are non paramtric models because they don't rely on assomptions that the data are drown from a given probability while gassian mixture models (GMM) assumes that the data points are generated from a mixture of a finite number of Gaussian distributions with unknown parameters. Thus, the last model can be used only with gaussian distributed data. Readers in this case should refer to the follwing tutorial : *coming soom* ."
   ]
  },
  {
   "cell_type": "markdown",
   "metadata": {},
   "source": [
    "### Presentation of the different non parametric models\n",
    "\n",
    "Available non parametric sensorimotor models in Explauto can be accessed using: "
   ]
  },
  {
   "cell_type": "code",
   "execution_count": 3,
   "metadata": {
    "collapsed": false
   },
   "outputs": [
    {
     "name": "stdout",
     "output_type": "stream",
     "text": [
      "Available sensorimotor models: ['LWLR-BFGS', 'nearest_neighbor', 'WNN', 'LWLR-CMAES']\n"
     ]
    }
   ],
   "source": [
    "from explauto.sensorimotor_model import sensorimotor_models\n",
    "print 'Available sensorimotor models: {}'.format(sensorimotor_models.keys())"
   ]
  },
  {
   "cell_type": "markdown",
   "metadata": {},
   "source": [
    "These 4 models are a combination of a forward and an inverse model:\n",
    "* the **nearest neighbor** model searches the nearest point of a given input ($m$ or $s$) in the dataset and returns its corresponding value (respectively $s$ or $m$)\n",
    "* the **WNN or weighted nearest neighbor** model searches the $k$ nearest points of a given input ($m$ or $s$) in the dataset and returns the average of the $k$ corresponding values (respectively $m$ or $s$)\n",
    "* the **LWLR or The Locally Weigthed Linear Regression (LWLR)** offers two inverses model for the same forward one. The forward computes a linear regression of the $k$ nearest neighbors of $m$ and find the requested $s$ with the given $m$ based on that regression. Both inverse models are optimisation algorithm that minimize the error  $e(m) = ||LWLR(m) - s_g||^2$  where $s_g$ is the goal, $LWLR$ is the forward model LWLR, and $m$ is the motor command to be infered. Both **LWLR-BFGS** and **LWLR-CMAES** use LWLR forward model to predict $s$ but LWLR-BFGF uses Broyden–Fletcher–Goldfarb–Shanno algorithm and LWLR-CMAES covariance matrix adaptation which are going to be explained later.\n",
    "Let's see which of these 8 *(2 * 4)* possibilities is the best"
   ]
  },
  {
   "cell_type": "markdown",
   "metadata": {},
   "source": [
    "### Forward or inverse model ?\n",
    "\n",
    "The forward model uses the dataset for the forward prediction computation, and the inverse model uses the forward model, or directly the dataset to perform inverse prediction. In other words, forward models predict $s_p$ given a $m$ that might have never been observed, using the dataset of observations $(m,s)$ and inverse models infer a motor command $m$ that should be able to reach a given goal $s_g$.  "
   ]
  },
  {
   "cell_type": "markdown",
   "metadata": {},
   "source": [
    "### Forward models comparison\n",
    "For each model : \n",
    "* Output descrptions\n",
    "* Processing description\n",
    "* When should it (or not) be used\n",
    "* Time processing\n",
    "* Distance between sg et s"
   ]
  },
  {
   "cell_type": "code",
   "execution_count": 29,
   "metadata": {
    "collapsed": true
   },
   "outputs": [],
   "source": [
    "from scipy import spatial\n",
    "import time\n",
    "\n",
    "#Environment definition\n",
    "from explauto.environment.environment import Environment\n",
    "environment = Environment.from_configuration('simple_arm', 'mid_dimensional')\n",
    "\n",
    "from explauto.sensorimotor_model import sensorimotor_models\n",
    "from explauto import SensorimotorModel"
   ]
  },
  {
   "cell_type": "markdown",
   "metadata": {},
   "source": [
    "#### Nearest Neighbor forward model\n",
    "\n",
    "\n",
    "To perform a forward prediction, the Nearest Neighbor model just looks in the dataset of tuples $(m, s)$ for the nearest neighbor of the given $m$ motor command, and returns its corresponding $s$.\n",
    "The algorithm comes from scipy library : [scipy.spatial.KDTree.query](http://docs.scipy.org/doc/scipy-0.16.0/reference/generated/scipy.spatial.KDTree.query.html) (with x = $s_g$, k=1, eps = 0, p = 2, radius = +inf). It returns distance and indexes of found nearest neighbors.\n",
    "It works sufficiently well in different typical robotic applications but can be very long if the dataset's size exceed $10⁵$. \n",
    "\n",
    "Let's see how to use it and its results :"
   ]
  },
  {
   "cell_type": "code",
   "execution_count": 33,
   "metadata": {
    "collapsed": false
   },
   "outputs": [],
   "source": [
    "#Creation of the dataset\n",
    "random_motors = environment.random_motors(n=1000)\n",
    "    \n",
    "sm_cls, sm_configs = sensorimotor_models['nearest_neighbor']\n",
    "model = sm_cls(environment.conf, **sm_configs['default'])\n",
    "\n",
    "for m in random_motors:\n",
    "    s = environment.compute_sensori_effect(m)\n",
    "    model.update(m, s)"
   ]
  },
  {
   "cell_type": "code",
   "execution_count": 30,
   "metadata": {
    "collapsed": false
   },
   "outputs": [],
   "source": [
    "#Test of the model\n",
    "test = environment.random_motors(n=50)\n",
    "distance = []\n",
    "timer = []\n",
    "\n",
    "for mTest in test :\n",
    "    start = time.time()\n",
    "    sTest_pred = model.forward_prediction(mTest)\n",
    "    end = time.time()\n",
    "    sTest_eff = environment.compute_sensori_effect(mTest)\n",
    "    distance.append(spatial.distance.pdist([sTest_pred,sTest_eff])[0])\n",
    "    timer.append(end - start)"
   ]
  },
  {
   "cell_type": "code",
   "execution_count": 32,
   "metadata": {
    "collapsed": false
   },
   "outputs": [
    {
     "name": "stdout",
     "output_type": "stream",
     "text": [
      "[0.24177072005089387, 0.16694489498320747, 0.70232748022294833, 0.00026514530181884763, 0.00027393861162125976, 0.002167940139770508]\n"
     ]
    }
   ],
   "source": [
    "# Distance between the predictive and effectiv value\n",
    "comparison = {}\n",
    "comparison['NN'] = [np.mean(distance), np.std(distance) ,max(distance),\n",
    "                    np.mean(timer), np.std(timer), max(timer)]\n",
    "print comparison['NN']"
   ]
  },
  {
   "cell_type": "markdown",
   "metadata": {},
   "source": [
    "#DRAFT bac a sable"
   ]
  },
  {
   "cell_type": "code",
   "execution_count": 30,
   "metadata": {
    "collapsed": false
   },
   "outputs": [
    {
     "name": "stdout",
     "output_type": "stream",
     "text": [
      "Populating the interactive namespace from numpy and matplotlib\n"
     ]
    },
    {
     "data": {
      "text/plain": [
       "[<matplotlib.lines.Line2D at 0x7f9f7dda0450>]"
      ]
     },
     "execution_count": 30,
     "metadata": {},
     "output_type": "execute_result"
    },
    {
     "data": {
      "image/png": "[encoded data removed]",
      "text/plain": [
       "<matplotlib.figure.Figure at 0x7f9f7b69c550>"
      ]
     },
     "metadata": {},
     "output_type": "display_data"
    }
   ],
   "source": [
    "#NN TEST\n",
    "for m in testing_couples\n",
    "    \n",
    "sTest_pred = model.forward_prediction(mTest)\n",
    "distance[\"NN\"] = abs(sTest_pred-sTest)\n",
    "\n",
    "%pylab inline\n",
    "ax = axes()\n",
    "environment.plot_arm(ax, mTest)\n",
    "ax.plot(*sTest_pred, marker='o', color='red')"
   ]
  },
  {
   "cell_type": "code",
   "execution_count": 30,
   "metadata": {
    "collapsed": false
   },
   "outputs": [
    {
     "name": "stdout",
     "output_type": "stream",
     "text": [
      "Populating the interactive namespace from numpy and matplotlib\n"
     ]
    },
    {
     "data": {
      "text/plain": [
       "[<matplotlib.lines.Line2D at 0x7f9f7dda0450>]"
      ]
     },
     "execution_count": 30,
     "metadata": {},
     "output_type": "execute_result"
    },
    {
     "data": {
      "image/png": "[encoded data removed]",
      "text/plain": [
       "<matplotlib.figure.Figure at 0x7f9f7b69c550>"
      ]
     },
     "metadata": {},
     "output_type": "display_data"
    }
   ],
   "source": [
    "#NN TEST\n",
    "for m in testing_couples\n",
    "    \n",
    "sTest_pred = model.forward_prediction(mTest)\n",
    "distance[\"NN\"] = abs(sTest_pred-sTest)\n",
    "\n",
    "%pylab inline\n",
    "ax = axes()\n",
    "environment.plot_arm(ax, mTest)\n",
    "ax.plot(*sTest_pred, marker='o', color='red')"
   ]
  },
  {
   "cell_type": "code",
   "execution_count": 30,
   "metadata": {
    "collapsed": false
   },
   "outputs": [
    {
     "name": "stdout",
     "output_type": "stream",
     "text": [
      "Populating the interactive namespace from numpy and matplotlib\n"
     ]
    },
    {
     "data": {
      "text/plain": [
       "[<matplotlib.lines.Line2D at 0x7f9f7dda0450>]"
      ]
     },
     "execution_count": 30,
     "metadata": {},
     "output_type": "execute_result"
    },
    {
     "data": {
      "image/png": "[encoded data removed]",
      "text/plain": [
       "<matplotlib.figure.Figure at 0x7f9f7b69c550>"
      ]
     },
     "metadata": {},
     "output_type": "display_data"
    }
   ],
   "source": [
    "#NN TEST\n",
    "for m in testing_couples\n",
    "    \n",
    "sTest_pred = model.forward_prediction(mTest)\n",
    "distance[\"NN\"] = abs(sTest_pred-sTest)\n",
    "\n",
    "%pylab inline\n",
    "ax = axes()\n",
    "environment.plot_arm(ax, mTest)\n",
    "ax.plot(*sTest_pred, marker='o', color='red')"
   ]
  },
  {
   "cell_type": "code",
   "execution_count": 31,
   "metadata": {
    "collapsed": false
   },
   "outputs": [
    {
     "name": "stdout",
     "output_type": "stream",
     "text": [
      "[-0.65232833 -0.78444065 -0.07154134  0.98469259 -0.20240519  0.59945435\n",
      " -0.5925971 ]\n",
      "[ 0.54220714  0.79929109]\n",
      "['NN']\n"
     ]
    }
   ],
   "source": [
    "sensorimotor_models.keys()\n",
    "print mTest\n",
    "print sTest\n",
    "print distance.keys()"
   ]
  },
  {
   "cell_type": "code",
   "execution_count": 33,
   "metadata": {
    "collapsed": false
   },
   "outputs": [
    {
     "name": "stdout",
     "output_type": "stream",
     "text": [
      "[ 0.56816432 -0.60892505]\n",
      "Populating the interactive namespace from numpy and matplotlib\n"
     ]
    },
    {
     "data": {
      "text/plain": [
       "[<matplotlib.lines.Line2D at 0x7f9f7da6b450>]"
      ]
     },
     "execution_count": 33,
     "metadata": {},
     "output_type": "execute_result"
    },
    {
     "data": {
      "image/png": "[encoded data removed]",
      "text/plain": [
       "<matplotlib.figure.Figure at 0x7f9f7e0f5590>"
      ]
     },
     "metadata": {},
     "output_type": "display_data"
    }
   ],
   "source": [
    "#KNN TEST\n",
    "model = SensorimotorModel.from_configuration(environment.conf, 'WNN', 'default')\n",
    "\n",
    "for m in random_motors:\n",
    "    s = environment.compute_sensori_effect(m)\n",
    "    # compute the sensori effect s of the motor command m through the environment\n",
    "    model.update(m, s)\n",
    "    \n",
    "sTest_pred = model.forward_prediction(mTest)\n",
    "print sTest_pred\n",
    "distance[\"WNN\"] = abs(sTest_pred-sTest)\n",
    "\n",
    "%pylab inline\n",
    "ax = axes()\n",
    "environment.plot_arm(ax, mTest)\n",
    "ax.plot(*sTest_pred, marker='o', color='red')\n",
    "\n"
   ]
  }
 ],
 "metadata": {
  "kernelspec": {
   "display_name": "Python 2",
   "language": "python",
   "name": "python2"
  },
  "language_info": {
   "codemirror_mode": {
    "name": "ipython",
    "version": 2
   },
   "file_extension": ".py",
   "mimetype": "text/x-python",
   "name": "python",
   "nbconvert_exporter": "python",
   "pygments_lexer": "ipython2",
   "version": "2.7.11"
  }
 },
 "nbformat": 4,
 "nbformat_minor": 0
}
