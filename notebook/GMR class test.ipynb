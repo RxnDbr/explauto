{
 "cells": [
  {
   "cell_type": "code",
   "execution_count": 1,
   "metadata": {
    "collapsed": false
   },
   "outputs": [],
   "source": [
    "import numpy as np\n",
    "import scipy as sp\n",
    "import time\n",
    "import sys\n",
    "sys.path.append('/usr/local/lib/python2.7/dist-packages/gmr-1.1_git-py2.7.egg')\n",
    "import gmr as gaussian_regression"
   ]
  },
  {
   "cell_type": "code",
   "execution_count": 2,
   "metadata": {
    "collapsed": true
   },
   "outputs": [],
   "source": [
    "#Environment definition\n",
    "from scipy import spatial\n",
    "from explauto.utils import rand_bounds\n",
    "from explauto.environment.environment import Environment\n",
    "from explauto import SensorimotorModel\n",
    "from explauto.sensorimotor_model import sensorimotor_models"
   ]
  },
  {
   "cell_type": "code",
   "execution_count": 3,
   "metadata": {
    "collapsed": false
   },
   "outputs": [],
   "source": [
    "from explauto.models.gmrinf import GMR"
   ]
  },
  {
   "cell_type": "code",
   "execution_count": 4,
   "metadata": {
    "collapsed": false
   },
   "outputs": [],
   "source": [
    "environment = Environment.from_configuration('simple_arm', 'mid_dimensional')"
   ]
  },
  {
   "cell_type": "code",
   "execution_count": 5,
   "metadata": {
    "collapsed": true
   },
   "outputs": [],
   "source": [
    "sm_cls, sm_configs = sensorimotor_models['nearest_neighbor']\n",
    "model = sm_cls(environment.conf, **sm_configs['default'])"
   ]
  },
  {
   "cell_type": "code",
   "execution_count": 6,
   "metadata": {
    "collapsed": true
   },
   "outputs": [],
   "source": [
    "#Creation of the total dataset\n",
    "def generateFwdDataset(_environment, _model, _n = 1000):\n",
    "    random_motors = _environment.random_motors(n=_n)\n",
    "   \n",
    "    for m in random_motors:\n",
    "        s = _environment.compute_sensori_effect(m)\n",
    "        _model.update(m, s)\n",
    "generateFwdDataset(environment, model)"
   ]
  },
  {
   "cell_type": "code",
   "execution_count": 7,
   "metadata": {
    "collapsed": false
   },
   "outputs": [],
   "source": [
    "x_g = environment.random_motors(n=1)\n",
    "#Creation fof a local dataset depending on x_g\n",
    "l_dist, l_index = model.model.imodel.fmodel.dataset.nn_x(x_g[0], 100)\n",
    "l_nn = []\n",
    "col1 = []\n",
    "col2 = []\n",
    "for index in l_index:\n",
    "    col1.append(model.model.imodel.fmodel.dataset.get_xy(index)[0])\n",
    "    col2.append(model.model.imodel.fmodel.dataset.get_xy(index)[1])\n",
    "    l_nn.append(model.model.imodel.fmodel.dataset.get_xy(index))\n",
    "lnn_nparray = np.array(l_nn)"
   ]
  },
  {
   "cell_type": "code",
   "execution_count": 7,
   "metadata": {
    "collapsed": false
   },
   "outputs": [],
   "source": [
    "data_list = model.model.imodel.fmodel.dataset.data"
   ]
  },
  {
   "cell_type": "code",
   "execution_count": 8,
   "metadata": {
    "collapsed": false
   },
   "outputs": [],
   "source": [
    "data_np = np.array(data_list).T"
   ]
  },
  {
   "cell_type": "code",
   "execution_count": 9,
   "metadata": {
    "collapsed": false
   },
   "outputs": [],
   "source": [
    "data = []\n",
    "for i in range(len(data_np)):\n",
    "    data.append(np.hstack(data_np[i,:]))"
   ]
  },
  {
   "cell_type": "code",
   "execution_count": 10,
   "metadata": {
    "collapsed": false
   },
   "outputs": [],
   "source": [
    "gmr = GMR(n_components=3)\n",
    "gmr = gmr.from_samples(np.array(data))"
   ]
  },
  {
   "cell_type": "code",
   "execution_count": 11,
   "metadata": {
    "collapsed": false
   },
   "outputs": [],
   "source": [
    "conditional = gmr.condition([0, 1, 2, 3, 4, 5, 6], [-0.76151596,  0.85728845,  0.0987334 ,  0.46247676, -0.16366163,\n",
    "         0.27212757,  0.08281898])"
   ]
  },
  {
   "cell_type": "code",
   "execution_count": 12,
   "metadata": {
    "collapsed": false
   },
   "outputs": [
    {
     "name": "stdout",
     "output_type": "stream",
     "text": [
      "[ 0.00477281  0.98996846  0.00525874]\n"
     ]
    }
   ],
   "source": [
    "print conditional.priors"
   ]
  },
  {
   "cell_type": "code",
   "execution_count": 13,
   "metadata": {
    "collapsed": false
   },
   "outputs": [],
   "source": [
    "prediction = gmr.predict(np.array([0, 1, 2, 3, 4, 5, 6]), np.transpose(np.array([[-0.76151596],  [0.85728845],  [0.0987334],  [0.46247676], [-0.16366163],\n",
    "         [0.27212757],  [0.08281898]])))\n"
   ]
  },
  {
   "cell_type": "code",
   "execution_count": 14,
   "metadata": {
    "collapsed": false
   },
   "outputs": [
    {
     "name": "stdout",
     "output_type": "stream",
     "text": [
      "[ 0.8076785  -0.07856919]\n"
     ]
    }
   ],
   "source": [
    "print prediction[0]"
   ]
  },
  {
   "cell_type": "code",
   "execution_count": 15,
   "metadata": {
    "collapsed": false
   },
   "outputs": [
    {
     "name": "stdout",
     "output_type": "stream",
     "text": [
      "0.541884810781\n"
     ]
    }
   ],
   "source": [
    "proba = gmr.probability(np.transpose(np.array([[-0.76151596],  [0.85728845],  [0.0987334],  [0.46247676], [-0.16366163],\n",
    "         [0.27212757],  [0.08281898], [0.84411128], [-0.07436732]])))\n",
    "print proba"
   ]
  },
  {
   "cell_type": "code",
   "execution_count": 16,
   "metadata": {
    "collapsed": false
   },
   "outputs": [],
   "source": [
    "reg = gmr.regression(np.array([0, 1, 2, 3, 4, 5, 6]), np.array([7,8]), np.transpose(np.array([[-0.76151596],  [0.85728845],  [0.0987334],  [0.46247676], [-0.16366163],\n",
    "         [0.27212757],  [0.08281898]])), \"lse\")"
   ]
  },
  {
   "cell_type": "code",
   "execution_count": 17,
   "metadata": {
    "collapsed": false
   },
   "outputs": [
    {
     "name": "stdout",
     "output_type": "stream",
     "text": [
      "[ 0.8076785  -0.07856919]\n"
     ]
    }
   ],
   "source": [
    "print reg"
   ]
  },
  {
   "cell_type": "code",
   "execution_count": 18,
   "metadata": {
    "collapsed": false
   },
   "outputs": [],
   "source": [
    "slse = gmr.regression(np.array([0, 1, 2, 3, 4, 5, 6]), np.array([7,8]), np.transpose(np.array([[-0.76151596],  [0.85728845],  [0.0987334],  [0.46247676], [-0.16366163],\n",
    "         [0.27212757],  [0.08281898]])), \"slse\")"
   ]
  },
  {
   "cell_type": "code",
   "execution_count": 19,
   "metadata": {
    "collapsed": false
   },
   "outputs": [
    {
     "name": "stdout",
     "output_type": "stream",
     "text": [
      "[ 0.8044823  -0.07751704]\n"
     ]
    }
   ],
   "source": [
    "print slse"
   ]
  },
  {
   "cell_type": "code",
   "execution_count": null,
   "metadata": {
    "collapsed": true
   },
   "outputs": [],
   "source": []
  }
 ],
 "metadata": {
  "kernelspec": {
   "display_name": "Python 2",
   "language": "python",
   "name": "python2"
  },
  "language_info": {
   "codemirror_mode": {
    "name": "ipython",
    "version": 2
   },
   "file_extension": ".py",
   "mimetype": "text/x-python",
   "name": "python",
   "nbconvert_exporter": "python",
   "pygments_lexer": "ipython2",
   "version": "2.7.11"
  }
 },
 "nbformat": 4,
 "nbformat_minor": 0
}
